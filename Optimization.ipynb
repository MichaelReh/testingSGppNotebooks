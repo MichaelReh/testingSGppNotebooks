{
  "nbformat": 4,
  "nbformat_minor": 0,
  "metadata": {
    "celltoolbar": "Slideshow",
    "kernelspec": {
      "display_name": "Python 3",
      "language": "python",
      "name": "python3"
    },
    "language_info": {
      "codemirror_mode": {
        "name": "ipython",
        "version": 3
      },
      "file_extension": ".py",
      "mimetype": "text/x-python",
      "name": "python",
      "nbconvert_exporter": "python",
      "pygments_lexer": "ipython3",
      "version": "3.8.0"
    },
    "colab": {
      "name": "Optimization.ipynb",
      "provenance": [],
      "include_colab_link": true
    }
  },
  "cells": [
    {
      "cell_type": "markdown",
      "metadata": {
        "id": "view-in-github",
        "colab_type": "text"
      },
      "source": [
        "<a href=\"https://colab.research.google.com/github/MichaelReh/testingSGppNotebooks/blob/master/Optimization.ipynb\" target=\"_parent\"><img src=\"https://colab.research.google.com/assets/colab-badge.svg\" alt=\"Open In Colab\"/></a>"
      ]
    },
    {
      "cell_type": "markdown",
      "metadata": {
        "id": "hNnYEH_UvGbN",
        "colab_type": "text"
      },
      "source": [
        "Use the 'Open in Colab' button to execute this notebook in Google Colab. No local installation of $SG^{++}$ is required."
      ]
    },
    {
      "cell_type": "code",
      "metadata": {
        "id": "CJU5ILNpuqPQ",
        "colab_type": "code",
        "colab": {}
      },
      "source": [
        "# This is how you would install the latest version of SG++ on colab. \n",
        "# For this tutorial however, we have already built everything and uploaded it\n",
        "# into our cloud.\n",
        "\n",
        "# ! apt-get install scons swig # build tools for sgpp\n",
        "# ! git clone https://github.com/SGpp/SGpp.git\n",
        "# ! cd SGpp\n",
        "# install sgpp -- start early, takes > 30min!\n",
        "# !cd SGpp  && scons -j4 SG_BASE=1 SG_COMBIGRID=1 SG_DATADRIVEN=1 SG_MISC=0 SG_OPTIMIZATION=1 SG_PDE=1 SG_QUADRATURE=1 SG_SOLVER=1 SG_JAVA=0 SG_MATLAB=0 SG_PYTHON=1 COMPILE_BOOST_TESTS=0 RUN_BOOST_TESTS=0\n",
        "# do file fiddling necessary in colab so everything is found\n",
        "# !sed -ie 's/^\\(from . import extensions\\)/try:\\n    \\1\\nexcept:\\n    import extensions/' $pysgpp_path/__init__.py\n",
        "# !zip -r SGpp{.zip,}"
      ],
      "execution_count": 0,
      "outputs": []
    },
    {
      "cell_type": "code",
      "metadata": {
        "id": "tXZWswtVthBK",
        "colab_type": "code",
        "colab": {}
      },
      "source": [
        "! wget https://ipvs.informatik.uni-stuttgart.de/cloud/s/FQJFw9EpTkfLCKF/download\n",
        "! mv download SGpp.zip\n",
        "! unzip SGpp.zip"
      ],
      "execution_count": 0,
      "outputs": []
    },
    {
      "cell_type": "code",
      "metadata": {
        "id": "IVI4UgOitmOf",
        "colab_type": "code",
        "colab": {}
      },
      "source": [
        "import sys\n",
        "import os\n",
        "\n",
        "sgpp_folder = \"SGpp\"\n",
        "\n",
        "# Make python interface available\n",
        "if not 'moduleDir' in globals():\n",
        "    moduleDir = os.path.join(os.path.join(os.getcwd(), sgpp_folder),\"lib\")\n",
        "    pysgpp_path = os.path.join(os.path.join(os.getcwd(), sgpp_folder),\"lib/pysgpp\")\n",
        "    sys.path.append(moduleDir)\n",
        "    sys.path.append(pysgpp_path)\n",
        "\n",
        "sgpp_path = os.path.join(os.path.join(os.getcwd(), sgpp_folder),\"lib/sgpp\")\n",
        "# copy shared libs to where we're looking for libraries\n",
        "!cp $sgpp_path/* /usr/lib"
      ],
      "execution_count": 0,
      "outputs": []
    },
    {
      "cell_type": "markdown",
      "metadata": {
        "id": "8Ei-H50XtVn6",
        "colab_type": "text"
      },
      "source": [
        "# Optimization\n",
        "This notebook demonstrates optimization with SG++.\n",
        "It shows:\n",
        "- how to create an objective function object\n",
        "- how to interpolate with B-splines by explicitly creating the SLE\n",
        "- how to calculate the optimum using gradient descent\n",
        "\n",
        "Note: If you want to run these introductory notebooks interactively in your browser, you can use Google Colab. See [the according Wiki page](https://github.com/SGpp/SGpp/wiki/Installing-pysgpp-on-colab) for more instructions."
      ]
    },
    {
      "cell_type": "markdown",
      "metadata": {
        "id": "tQjE-5x7tVoD",
        "colab_type": "text"
      },
      "source": [
        "The example interpolates a bivariate test function like the `Interpolation.ipynb` notebook.\n",
        "However, it uses B-splines here instead to obtain a smoother interpolant.  \n",
        "The resulting sparse grid function is then minimized with the method of steepest descent.\n",
        "For comparison, the objective function is also minimized with Nelder-Mead's method."
      ]
    },
    {
      "cell_type": "markdown",
      "metadata": {
        "id": "XT6bEOCQtVoH",
        "colab_type": "text"
      },
      "source": [
        "Import the necessary modules. The python bindings for SG++ are called \"pysgpp\"."
      ]
    },
    {
      "cell_type": "code",
      "metadata": {
        "id": "RZuk6WdQtVoM",
        "colab_type": "code",
        "colab": {}
      },
      "source": [
        "%matplotlib notebook\n",
        "%matplotlib inline\n",
        "from __future__ import print_function\n",
        "import pysgpp\n",
        "import matplotlib.pyplot as plt\n",
        "from mpl_toolkits.mplot3d import Axes3D\n",
        "import sys\n",
        "import numpy as np"
      ],
      "execution_count": 0,
      "outputs": []
    },
    {
      "cell_type": "markdown",
      "metadata": {
        "id": "voiH3EJ-tVob",
        "colab_type": "text"
      },
      "source": [
        "The objective function $f\\colon [0, 1]^D \\to \\mathbb{R}$ to be minimized\n",
        "has to derive from `ScalarFunction`.\n",
        "In the constructor, we give the dimensionality of the domain\n",
        "(in this case $d = 2$).\n",
        "The eval method evaluates the objective function and returns the function\n",
        "value $f(\\vec{x})$ for a given point $\\vec{x} \\in [0, 1]^D$."
      ]
    },
    {
      "cell_type": "code",
      "metadata": {
        "id": "FIfstjD8tVog",
        "colab_type": "code",
        "colab": {}
      },
      "source": [
        "class ExampleFunction(pysgpp.ScalarFunction):\n",
        "    \"\"\"Example objective function.\"\"\"\n",
        "    def __init__(self):\n",
        "        dim = 2\n",
        "        super(ExampleFunction, self).__init__(dim)\n",
        "\n",
        "    def eval(self, x):\n",
        "        \"\"\"Evaluates the function.\"\"\"\n",
        "        return np.sin(8.0 * x[0]) + np.sin(7.0 * x[1])"
      ],
      "execution_count": 0,
      "outputs": []
    },
    {
      "cell_type": "markdown",
      "metadata": {
        "id": "LGOEg4FJtVoq",
        "colab_type": "text"
      },
      "source": [
        "Plot the objective function."
      ]
    },
    {
      "cell_type": "code",
      "metadata": {
        "id": "elCiiqOptVou",
        "colab_type": "code",
        "colab": {
          "base_uri": "https://localhost:8080/",
          "height": 266
        },
        "outputId": "e4925e18-8e4f-422b-ed7f-bdfd9dd75416"
      },
      "source": [
        "XX = np.linspace(0,1,17)\n",
        "(X, Y) = np.meshgrid(XX, XX)\n",
        "fig = plt.figure()\n",
        "ax = fig.add_subplot(111, projection='3d')\n",
        "def ff(x1, x2):\n",
        "    return np.sin(8.0*x1) + np.sin(7.0*x2)\n",
        "ax.plot_surface(X, Y, ff(X, Y), rstride=1, cstride=1, cmap='viridis')"
      ],
      "execution_count": 24,
      "outputs": [
        {
          "output_type": "execute_result",
          "data": {
            "text/plain": [
              "<mpl_toolkits.mplot3d.art3d.Poly3DCollection at 0x7f299e70f2e8>"
            ]
          },
          "metadata": {
            "tags": []
          },
          "execution_count": 24
        },
        {
          "output_type": "display_data",
          "data": {
            "image/png": "[encoded data removed]",
            "text/plain": [
              "<Figure size 432x288 with 1 Axes>"
            ]
          },
          "metadata": {
            "tags": []
          }
        }
      ]
    },
    {
      "cell_type": "markdown",
      "metadata": {
        "id": "0xcYG4WRtVo7",
        "colab_type": "text"
      },
      "source": [
        "OpenMP within pysgpp must be disabled for objective functions defined in Python, since it interferes with SWIG's director feature.  \n",
        "Set the verbosity level to obtain more/less information on grid generation, SLE solving and optimization printed to the console.\n",
        "\n",
        "Note: If parallel execution is needed for performance, implement the objective function directly  in C++."
      ]
    },
    {
      "cell_type": "code",
      "metadata": {
        "id": "m-Mu3WHItVo_",
        "colab_type": "code",
        "colab": {}
      },
      "source": [
        "pysgpp.omp_set_num_threads(1)\n",
        "\n",
        "# increase verbosity of the output\n",
        "pysgpp.Printer.getInstance().setVerbosity(2)"
      ],
      "execution_count": 0,
      "outputs": []
    },
    {
      "cell_type": "markdown",
      "metadata": {
        "id": "QelTOciVtVpH",
        "colab_type": "text"
      },
      "source": [
        "Define parameters: objective function, dimensionality,\n",
        "B-spline degree, maximal number of grid points, and adaptivity."
      ]
    },
    {
      "cell_type": "code",
      "metadata": {
        "id": "3BU_yhDhtVpK",
        "colab_type": "code",
        "colab": {}
      },
      "source": [
        "# objective function\n",
        "f = ExampleFunction()\n",
        "# dimension of domain\n",
        "d = f.getNumberOfParameters()\n",
        "# B-spline degree\n",
        "p = 3\n",
        "# maximal number of grid points\n",
        "N = 30\n",
        "# gamma determines the adaptivity of grid generation\n",
        "# compromise between exploration (gamma = 0) and exploitation (gamma = 1)\n",
        "gamma = 0.95"
      ],
      "execution_count": 0,
      "outputs": []
    },
    {
      "cell_type": "markdown",
      "metadata": {
        "id": "5YfA7MUotVpT",
        "colab_type": "text"
      },
      "source": [
        "Define a grid of dimension `d` with modified B-spline basis functions of degree `p`."
      ]
    },
    {
      "cell_type": "code",
      "metadata": {
        "id": "GkBP1iwitVpW",
        "colab_type": "code",
        "colab": {}
      },
      "source": [
        "grid = pysgpp.Grid.createModBsplineGrid(d, p)\n"
      ],
      "execution_count": 0,
      "outputs": []
    },
    {
      "cell_type": "markdown",
      "metadata": {
        "id": "45DOSyMNtVpe",
        "colab_type": "text"
      },
      "source": [
        "Define an iterative grid generator, which can generate the grid adaptively. Apply the grid generator with the previousy defined parameters."
      ]
    },
    {
      "cell_type": "code",
      "metadata": {
        "id": "xTES5BLrtVpi",
        "colab_type": "code",
        "colab": {}
      },
      "source": [
        "gridGen = pysgpp.OptIterativeGridGeneratorRitterNovak(f, grid, N, gamma)\n",
        "if not gridGen.generate():\n",
        "    print(\"Grid generation failed, exiting.\")\n",
        "    sys.exit(1)"
      ],
      "execution_count": 0,
      "outputs": []
    },
    {
      "cell_type": "markdown",
      "metadata": {
        "id": "yfu_TLartVpp",
        "colab_type": "text"
      },
      "source": [
        "Hierarchize the objective function values to get hierarchical B-spline\n",
        "coefficients of the B-spline sparse grid interpolant\n",
        "$\\tilde{f}\\colon [0, 1]^d \\to \\mathbb{R}$.  \n",
        "The hierarchization requires the interpolation SLE `hierSLE` which is automatically created depending on the `grid`, and an `sleSolver` to solve this SLE. Here the `AutoSLESolver` is used, which automatically picks a suiting solver library among the available choices.\n",
        "\n",
        "Note: SG++ supports the libraries Eigen, Armadillo, UMFPACK and GMPP for SLE solving. Use the flags USE_EIGEN, USE_ARMADILLO, USE_UMFPACK, USE_GMMP to compile SG++ with the according library. If none of these libraries is found by SG++ a simple gaussian elimination is used."
      ]
    },
    {
      "cell_type": "code",
      "metadata": {
        "id": "AQ07tgbxtVpr",
        "colab_type": "code",
        "colab": {}
      },
      "source": [
        "functionValues = gridGen.getFunctionValues()\n",
        "coeffs = pysgpp.DataVector(len(functionValues))\n",
        "hierSLE = pysgpp.HierarchisationSLE(grid)\n",
        "sleSolver = pysgpp.AutoSLESolver()\n",
        "\n",
        "# solve linear system\n",
        "if not sleSolver.solve(hierSLE, gridGen.getFunctionValues(), coeffs):\n",
        "    print(\"Solving failed, exiting.\")\n",
        "    sys.exit(1)"
      ],
      "execution_count": 0,
      "outputs": []
    },
    {
      "cell_type": "markdown",
      "metadata": {
        "id": "nyKfH3IptVp1",
        "colab_type": "text"
      },
      "source": [
        "Define the interpolant $\\tilde{f}$ and its gradient $\\nabla\\tilde{f}$ for use with the gradient method (steepest descent). The `InterpolantScalarFunction` and `InterpolantScalarFunctionGradient` provide handy wrappers for this.\n",
        "\n",
        "Note: Other optimization algorithms are available from `sgpp::optimization::optimizer`."
      ]
    },
    {
      "cell_type": "code",
      "metadata": {
        "id": "g2klerWHtVp2",
        "colab_type": "code",
        "colab": {}
      },
      "source": [
        "ft = pysgpp.InterpolantScalarFunction(grid, coeffs)\n",
        "ftGradient = pysgpp.InterpolantScalarFunctionGradient(grid, coeffs)\n",
        "gradientDescent = pysgpp.OptGradientDescent(ft, ftGradient)"
      ],
      "execution_count": 0,
      "outputs": []
    },
    {
      "cell_type": "markdown",
      "metadata": {
        "id": "CPePCXEQtVp9",
        "colab_type": "text"
      },
      "source": [
        "The gradient method needs a starting point.\n",
        "Here, we use a point of our adaptively generated sparse grid as starting point.\n",
        "More specifically, we use the point with the smallest\n",
        "(most promising) function value and save it in x0.\n",
        "\n",
        "Note: MultiStart is available, to improve convergence of the optimization routines."
      ]
    },
    {
      "cell_type": "code",
      "metadata": {
        "id": "PduDiEBMtVqA",
        "colab_type": "code",
        "colab": {
          "base_uri": "https://localhost:8080/",
          "height": 72
        },
        "outputId": "bade12cf-418b-45fa-d540-1b36ee5412dc"
      },
      "source": [
        "gridStorage = gridGen.getGrid().getStorage()\n",
        "\n",
        "# index of grid point with minimal function value\n",
        "x0 = pysgpp.DataVector(d)\n",
        "x0Index = 0\n",
        "fX0 = functionValues[0]\n",
        "for i in range(1, len(functionValues)):\n",
        "    if functionValues[i] < fX0:\n",
        "        fX0 = functionValues[i]\n",
        "        x0Index = i\n",
        "\n",
        "x0 = gridStorage.getCoordinates(gridStorage.getPoint(x0Index));\n",
        "ftX0 = ft.eval(x0)\n",
        "\n",
        "print(\"x0 = {}\".format(x0))\n",
        "print(\"f(x0) = {:.6g}, ft(x0) = {:.6g}\\n\".format(fX0, ftX0))"
      ],
      "execution_count": 16,
      "outputs": [
        {
          "output_type": "stream",
          "text": [
            "x0 = [6.25000000000000000000e-01, 7.50000000000000000000e-01]\n",
            "f(x0) = -1.81786, ft(x0) = -1.81786\n",
            "\n"
          ],
          "name": "stdout"
        }
      ]
    },
    {
      "cell_type": "markdown",
      "metadata": {
        "id": "LD_Q-WwQtVqH",
        "colab_type": "text"
      },
      "source": [
        "Set the starting point, apply the gradient method and print the results."
      ]
    },
    {
      "cell_type": "code",
      "metadata": {
        "id": "DRfPtYjttVqJ",
        "colab_type": "code",
        "colab": {
          "base_uri": "https://localhost:8080/",
          "height": 90
        },
        "outputId": "9da8e3b7-850a-4760-f16f-4e6a4390d49b"
      },
      "source": [
        "gradientDescent.setStartingPoint(x0)\n",
        "gradientDescent.optimize()\n",
        "xOpt = gradientDescent.getOptimalPoint()\n",
        "ftXOpt = gradientDescent.getOptimalValue()\n",
        "fXOpt = f.eval(xOpt)\n",
        "\n",
        "print(\"\\nxOpt = {}\".format(xOpt))\n",
        "print(\"f(xOpt) = {:.6g}, ft(xOpt) = {:.6g}\\n\".format(fXOpt, ftXOpt))"
      ],
      "execution_count": 17,
      "outputs": [
        {
          "output_type": "stream",
          "text": [
            "\n",
            "xOpt = [5.89526019987554272817e-01, 6.73267822377386027100e-01]\n",
            "f(xOpt) = -1.99999, ft(xOpt) = -2.00078\n",
            "\n"
          ],
          "name": "stdout"
        }
      ]
    },
    {
      "cell_type": "markdown",
      "metadata": {
        "id": "2FXVJzjmtVqS",
        "colab_type": "text"
      },
      "source": [
        "For comparison, apply the classical gradient-free Nelder-Mead method\n",
        "directly to the objective function $f$."
      ]
    },
    {
      "cell_type": "code",
      "metadata": {
        "id": "rSc25AC7tVqV",
        "colab_type": "code",
        "colab": {
          "base_uri": "https://localhost:8080/",
          "height": 90
        },
        "outputId": "e1ec5012-2f1b-49a8-a2d4-59972bfe6f3f"
      },
      "source": [
        "nelderMead = pysgpp.OptNelderMead(f, 1000)\n",
        "nelderMead.optimize()\n",
        "xOptNM = nelderMead.getOptimalPoint()\n",
        "fXOptNM = nelderMead.getOptimalValue()\n",
        "ftXOptNM = ft.eval(xOptNM)\n",
        "\n",
        "print(\"\\nxOptNM = {}\".format(xOptNM))\n",
        "print(\"f(xOptNM) = {:.6g}, ft(xOptNM) = {:.6g}\\n\".format(fXOptNM, ftXOptNM))"
      ],
      "execution_count": 18,
      "outputs": [
        {
          "output_type": "stream",
          "text": [
            "\n",
            "xOptNM = [5.89048623597983933564e-01, 6.73198424791973115688e-01]\n",
            "f(xOptNM) = -2, ft(xOptNM) = -2.00077\n",
            "\n"
          ],
          "name": "stdout"
        }
      ]
    },
    {
      "cell_type": "markdown",
      "metadata": {
        "id": "DReK3OHjtVqc",
        "colab_type": "text"
      },
      "source": [
        "We see that both the gradient-based optimization of the smooth sparse grid\n",
        "interpolant and the gradient-free optimization of the objective function\n",
        "find reasonable approximations of the minimum, which lies at\n",
        "$(3\\pi/16, 3\\pi/14) \\approx (0.58904862, 0.67319843)$."
      ]
    }
  ]
}